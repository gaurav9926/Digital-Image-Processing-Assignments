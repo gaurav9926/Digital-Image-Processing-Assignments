{
 "cells": [
  {
   "cell_type": "code",
   "execution_count": 3,
   "metadata": {},
   "outputs": [
    {
     "name": "stdout",
     "output_type": "stream",
     "text": [
      "21 255 8\n"
     ]
    },
    {
     "data": {
      "image/png": "[encoded data removed]",
      "text/plain": [
       "<Figure size 432x288 with 1 Axes>"
      ]
     },
     "metadata": {
      "needs_background": "light"
     },
     "output_type": "display_data"
    }
   ],
   "source": [
    "import sys\n",
    "import numpy as np\n",
    "import matplotlib.pyplot as plt\n",
    "from PIL import Image, ImageOps\n",
    "import cv2\n",
    "def dominantColor(img):\n",
    "    img = np.array(img)\n",
    "    cnt = np.zeros((256, 256, 256))\n",
    "    for i in range(img.shape[0]):\n",
    "        for j in range(img.shape[1]):\n",
    "            cnt[img[i][j][0]][img[i][j][1]][img[i][j][2]]+=1\n",
    "    # print(cnt.shape)\n",
    "    maxi = -1\n",
    "    for i in range(256):\n",
    "        for j in range(256):\n",
    "            for k in range(256):\n",
    "                if cnt[i][j][k] > maxi:\n",
    "                    max_r = i\n",
    "                    max_g = j\n",
    "                    max_b = k\n",
    "                    maxi = cnt[i][j][k]\n",
    "    print(max_r, max_g, max_b)\n",
    "    # h ,w = img.shape()\n",
    "    h = img.shape[0]\n",
    "    w = img.shape[1]\n",
    "    color = [max_r, max_g, max_b]\n",
    "    new_img = np.empty((5,25,3))\n",
    "    new_img[0:h, 0:w, :] = color[:]\n",
    "    # new_img[h:h+3, 0:w, :] = color[:]\n",
    "    new_img = new_img.astype('uint8')\n",
    "    return new_img\n",
    "img = Image.open('../input/fg.jpg')\n",
    "new_img = dominantColor(img)\n",
    "plt.imshow(new_img);plt.axis('off')\n",
    "plt.show()"
   ]
  }
 ],
 "metadata": {
  "kernelspec": {
   "display_name": "Python 3",
   "language": "python",
   "name": "python3"
  },
  "language_info": {
   "codemirror_mode": {
    "name": "ipython",
    "version": 3
   },
   "file_extension": ".py",
   "mimetype": "text/x-python",
   "name": "python",
   "nbconvert_exporter": "python",
   "pygments_lexer": "ipython3",
   "version": "3.5.2"
  }
 },
 "nbformat": 4,
 "nbformat_minor": 2
}
