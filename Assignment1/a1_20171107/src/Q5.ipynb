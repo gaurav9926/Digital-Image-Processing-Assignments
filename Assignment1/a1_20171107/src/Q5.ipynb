{
 "cells": [
  {
   "cell_type": "markdown",
   "metadata": {},
   "source": [
    "# Question 5\n"
   ]
  },
  {
   "cell_type": "markdown",
   "metadata": {},
   "source": [
    "# Part 1\n"
   ]
  },
  {
   "cell_type": "markdown",
   "metadata": {},
   "source": [
    "If MSB of image is made equal to 0, then the intensity range will be decreased from I to I/2. <br>\n",
    "Hence the right side part of the histogram would not be present and the Intensity [I/2+1, I] would not be present and so the image would appear darker."
   ]
  },
  {
   "cell_type": "markdown",
   "metadata": {},
   "source": [
    "# Part 2\n"
   ]
  },
  {
   "cell_type": "markdown",
   "metadata": {},
   "source": [
    "If the LSB of the image is made 0, then the image would no longer have any odd values. <br>\n",
    "And hence there would be discontinuities in the histogram at odd values. "
   ]
  },
  {
   "cell_type": "markdown",
   "metadata": {},
   "source": [
    "# Part 3"
   ]
  },
  {
   "cell_type": "markdown",
   "metadata": {},
   "source": [
    "Number of bits required t represent a pixel = start + 8bits(information) + end = 10 <br>\n",
    "Total Number of  of bits in Image = (512*512*10) = 2621440 <br>\n",
    "Total time required to transmit over 56K link = (512*512*10)/56000 = 46.8 sec <br>\n",
    "Total time required to transmit over 3000K link = (512*512*10)/3000000 = 0.8738 sec <br>\n",
    "                    "
   ]
  }
 ],
 "metadata": {
  "kernelspec": {
   "display_name": "Python 3",
   "language": "python",
   "name": "python3"
  },
  "language_info": {
   "codemirror_mode": {
    "name": "ipython",
    "version": 3
   },
   "file_extension": ".py",
   "mimetype": "text/x-python",
   "name": "python",
   "nbconvert_exporter": "python",
   "pygments_lexer": "ipython3",
   "version": "3.5.2"
  }
 },
 "nbformat": 4,
 "nbformat_minor": 2
}
