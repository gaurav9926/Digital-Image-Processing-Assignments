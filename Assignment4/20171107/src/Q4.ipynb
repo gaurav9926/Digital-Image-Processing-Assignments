{
 "cells": [
  {
   "cell_type": "code",
   "execution_count": 301,
   "metadata": {},
   "outputs": [],
   "source": [
    "import numpy as np\n",
    "from PIL import Image\n",
    "import matplotlib.pyplot as plt\n",
    "import cv2"
   ]
  },
  {
   "cell_type": "code",
   "execution_count": 296,
   "metadata": {},
   "outputs": [],
   "source": [
    "def display(img1, mask=1):\n",
    "    fig = plt.figure(figsize=[7,7])\n",
    "    ax1=plt.subplot(121);ax1.imshow(img,cmap='gray');\n",
    "    if mask == 1:\n",
    "        ax2=plt.subplot(122);ax2.imshow(img1,cmap='rainbow');\n",
    "    else:\n",
    "        ax2=plt.subplot(122);ax2.imshow(img1,cmap='gray');\n",
    "\n",
    "def remove_union(a, union_find):\n",
    "    if a in union_find:\n",
    "        if union_find[int(a)] != a:\n",
    "            union_find[int(a)], union_find = remove_union(union_find[int(a)], union_find)\n",
    "        return union_find[int(a)], union_find\n",
    "    else:\n",
    "        return a, union_find\n",
    "\n",
    "def compute_mask(img_bin):\n",
    "    (h, w) = img_bin.shape\n",
    "    mask = np.zeros((h, w))\n",
    "    \n",
    "    components = 1\n",
    "    union_find = {}\n",
    "    \n",
    "    \n",
    "    for i in range(h):\n",
    "        for j in range(w):\n",
    "            if img_bin[i,j] == 1:\n",
    "                if i == 0 and j == 0:\n",
    "                    mask[i,j] = components\n",
    "                elif i == 0:\n",
    "                    mask[i,j] = mask[i,j-1]\n",
    "                elif j == 0:\n",
    "                    mask[i,j] = mask[i-1,j]\n",
    "                elif mask[i,j-1] == 0 and mask[i-1,j] != 0:\n",
    "                    mask[i,j] = mask[i-1,j]\n",
    "                elif mask[i,j-1] != 0 and mask[i-1,j] == 0:\n",
    "                    mask[i,j] = mask[i,j-1]\n",
    "                elif mask[i-1,j] != mask[i,j-1]:\n",
    "                    mask[i,j] = min(mask[i,j-1],mask[i-1,j])\n",
    "                    \n",
    "                    maxi = max(mask[i,j-1],mask[i-1,j])\n",
    "                    mini = min(mask[i,j-1],mask[i-1,j])\n",
    "                    union_find[maxi] = mini\n",
    "                else:\n",
    "                    components = components + 1\n",
    "                    mask[i,j] = components\n",
    "    return mask, union_find\n",
    "\n",
    "def connected_components(img_bin):\n",
    "    # 2 pass algorithm\n",
    "    (h, w) = img_bin.shape\n",
    "    mask, union_find = compute_mask(img_bin)\n",
    "    for i in range(h):\n",
    "        for j in range(w):\n",
    "            if mask[i,j]:\n",
    "                mask[i,j], union_find = remove_union(mask[i,j], union_find)\n",
    "    return mask"
   ]
  },
  {
   "cell_type": "code",
   "execution_count": 334,
   "metadata": {
    "scrolled": false
   },
   "outputs": [
    {
     "data": {
      "image/png": "[encoded data removed]",
      "text/plain": [
       "<Figure size 504x504 with 2 Axes>"
      ]
     },
     "metadata": {
      "needs_background": "light"
     },
     "output_type": "display_data"
    }
   ],
   "source": [
    "img = cv2.imread('../input/objects.png',0)\n",
    "img = np.array(img)\n",
    "# plt.imshow(img,cmap='gray');plt.show();\n",
    "img = img/255\n",
    "img = img.astype('uint8')\n",
    "display(img,0)\n",
    "# img_inv = 1 - img\n",
    "# # img_inv\n",
    "# display(img_inv,0)\n",
    "# # plt.imshow(img1,cmap='gray');plt.show();\n",
    "# # mask = connected_components(img)\n",
    "# _,mask = cv2.connectedComponents(img*255)\n",
    "# parent = np.arange(10000)\n",
    "# # mask_inv = connected_components(img_inv)\n",
    "# _,mask_inv = cv2.connectedComponents(img_inv.astype(np.uint8))\n",
    "\n",
    "# # mask_inv[np.where(mask_inv==0)]=np.nan\n",
    "# # mask[np.where(mask==0)]=np.nan\n",
    "\n",
    "# display(np.array(mask))\n",
    "# display(np.array(mask_inv))\n",
    "# print(np.max(img))\n",
    "# mask = mask.astype('float')\n",
    "# plt.imshow(mask,cmap='rainbow');plt.show();\n",
    "# plt.imshow(mask_inv,cmap='rainbow');plt.show();\n"
   ]
  },
  {
   "cell_type": "code",
   "execution_count": 394,
   "metadata": {},
   "outputs": [],
   "source": [
    "# print(mask-mask_complete)\n",
    "\n",
    "def func(img):\n",
    "    img_inv = 1 - img\n",
    "    # img_inv\n",
    "#     display(img_inv,0)\n",
    "    # plt.imshow(img1,cmap='gray');plt.show();\n",
    "    # mask = connected_components(img)\n",
    "    _,mask = cv2.connectedComponents(img*255)\n",
    "#     parent = np.arange(10000)\n",
    "    # mask_inv = connected_components(img_inv)\n",
    "    _,mask_inv = cv2.connectedComponents(img_inv.astype(np.uint8))\n",
    "\n",
    "    # mask_inv[np.where(mask_inv==0)]=np.nan\n",
    "    # mask[np.where(mask==0)]=np.nan\n",
    "\n",
    "#     display(np.array(mask))\n",
    "#     display(np.array(mask_inv))\n",
    "    \n",
    "    # img_complete = np.zeros(img.shape)\n",
    "    # img_complete[np.where(img==1)]=1\n",
    "    img_complete = img.copy()\n",
    "    img_complete[np.where(mask_inv!=mask_inv[0,0])]=1\n",
    "#     display(img_complete,0)\n",
    "    # img_complete = img.copy()\n",
    "    # for i in range(img.shape[0]):\n",
    "    #     for j in range(img.shape[1]):\n",
    "    #         if int(mask_inv[i,j]) > 1:\n",
    "    # #             print('yes\\n')\n",
    "    #             img_complete[i,j] = 255\n",
    "    # mask_complete = connected_components(img_complete)\n",
    "    # print(np.min(img_complete))\n",
    "    X,mask_complete = cv2.connectedComponents(img_complete.astype(np.uint8))\n",
    "\n",
    "    # print(len(np.unique(mask_complete)))\n",
    "    display(mask_complete)\n",
    "    # display(img_complete,0)\n",
    "    # print(np.unique(mask_inv))\n",
    "    cnt_img = np.zeros(100000)\n",
    "    cnt_img_complete = np.zeros(100000)\n",
    "    (h, w) = mask.shape\n",
    "    for i in range(h):\n",
    "        for j in range(w):\n",
    "            if img[i,j] == 1:\n",
    "                cnt_img[int(mask[i,j])] += 1\n",
    "            if img_complete[i,j] == 1:\n",
    "                cnt_img_complete[int(mask_complete[i,j])] += 1\n",
    "    print(cnt_img_complete-cnt_img)\n",
    "\n",
    "    answer = np.zeros((h, w))\n",
    "    ans = 0\n",
    "    for i in range(h):\n",
    "        for j in range(w):\n",
    "            if img[i,j] == 1 and cnt_img[int(mask[i,j])] < cnt_img_complete[int(mask_complete[i,j])]:\n",
    "#                 ans += 1\n",
    "                answer[i,j] = 1\n",
    "    X,mask_ans = cv2.connectedComponents(answer.astype('uint8'))\n",
    "    print(\"Number Of Components: \"+str(len(np.unique(mask_ans))-1))\n",
    "#     print(ans)\n",
    "    display(answer,0)\n",
    "    return answer"
   ]
  },
  {
   "cell_type": "code",
   "execution_count": 395,
   "metadata": {},
   "outputs": [
    {
     "name": "stdout",
     "output_type": "stream",
     "text": [
      "[ 0. 44.  0. ...  0.  0.  0.]\n",
      "Number Of Components: 6\n"
     ]
    },
    {
     "data": {
      "text/plain": [
       "array([[0., 0., 0., ..., 0., 0., 0.],\n",
       "       [0., 0., 0., ..., 0., 0., 0.],\n",
       "       [0., 0., 0., ..., 0., 0., 0.],\n",
       "       ...,\n",
       "       [0., 0., 0., ..., 0., 0., 0.],\n",
       "       [0., 0., 0., ..., 0., 0., 0.],\n",
       "       [0., 0., 0., ..., 0., 0., 0.]])"
      ]
     },
     "execution_count": 395,
     "metadata": {},
     "output_type": "execute_result"
    },
    {
     "data": {
      "image/png": "[encoded data removed]",
      "text/plain": [
       "<Figure size 504x504 with 2 Axes>"
      ]
     },
     "metadata": {
      "needs_background": "light"
     },
     "output_type": "display_data"
    },
    {
     "data": {
      "image/png": "[encoded data removed]",
      "text/plain": [
       "<Figure size 504x504 with 2 Axes>"
      ]
     },
     "metadata": {
      "needs_background": "light"
     },
     "output_type": "display_data"
    }
   ],
   "source": [
    "func(img)"
   ]
  },
  {
   "cell_type": "code",
   "execution_count": 396,
   "metadata": {},
   "outputs": [],
   "source": [
    "def check(img, filt):\n",
    "    output = np.zeros(img.shape)\n",
    "    for i in range(1,img.shape[0]-1):\n",
    "        for j in range(1,img.shape[1]-1):\n",
    "            chk = 1\n",
    "            for x in range(3):\n",
    "                for y in range(3):\n",
    "                    if filt[x][y] != img[i+x-1][j+y-1]:\n",
    "                        chk = 0\n",
    "            if chk == 1:\n",
    "                output[i,j] = 1\n",
    "    return output\n",
    "\n"
   ]
  },
  {
   "cell_type": "code",
   "execution_count": 397,
   "metadata": {
    "scrolled": false
   },
   "outputs": [
    {
     "name": "stdout",
     "output_type": "stream",
     "text": [
      "[ 0.  9. 10. 11. 15. 16. 17. 19. 21. 23. 24. 25.]\n",
      "(array([110, 115, 118, 167, 183, 187, 205, 245, 262, 265, 265]), array([ 19, 231, 142, 187, 122, 289,  14, 243, 174,  19, 334]))\n"
     ]
    },
    {
     "data": {
      "image/png": "[encoded data removed]",
      "text/plain": [
       "<Figure size 504x504 with 2 Axes>"
      ]
     },
     "metadata": {
      "needs_background": "light"
     },
     "output_type": "display_data"
    },
    {
     "data": {
      "image/png": "[encoded data removed]",
      "text/plain": [
       "<Figure size 504x504 with 2 Axes>"
      ]
     },
     "metadata": {
      "needs_background": "light"
     },
     "output_type": "display_data"
    }
   ],
   "source": [
    "filt = [[0,0,0],[0,1,1],[0,1,1]]\n",
    "img_filt = check(img,filt)\n",
    "\n",
    "_,mask = cv2.connectedComponents(img)\n",
    "\n",
    "temp = np.multiply(img_filt, mask)\n",
    "check1 = np.zeros(10000)\n",
    "output_squares = np.zeros(img.shape)\n",
    "\n",
    "temp_unique = np.unique(temp)\n",
    "# temp_unique = temp_unique\n",
    "print(temp_unique)\n",
    "for k in temp_unique:\n",
    "    if k == 0:\n",
    "        continue\n",
    "    for i in range(img.shape[0]):\n",
    "        for j in range(img.shape[1]):\n",
    "            if k != 0 and mask[i,j] == k:\n",
    "                output_squares[i,j] = 1\n",
    "output_circles = img - output_squares\n",
    "display(output_squares,0)\n",
    "display(output_circles,0)\n",
    "# display(img_filt,0)\n",
    "print(np.where(img_filt!=0))"
   ]
  },
  {
   "cell_type": "code",
   "execution_count": 398,
   "metadata": {
    "scrolled": false
   },
   "outputs": [
    {
     "name": "stdout",
     "output_type": "stream",
     "text": [
      "[0. 0. 0. ... 0. 0. 0.]\n",
      "Number Of Components: 2\n",
      "[ 0. 44.  0. ...  0.  0.  0.]\n",
      "Number Of Components: 4\n"
     ]
    },
    {
     "data": {
      "image/png": "[encoded data removed]",
      "text/plain": [
       "<Figure size 504x504 with 2 Axes>"
      ]
     },
     "metadata": {
      "needs_background": "light"
     },
     "output_type": "display_data"
    },
    {
     "data": {
      "image/png": "[encoded data removed]",
      "text/plain": [
       "<Figure size 504x504 with 2 Axes>"
      ]
     },
     "metadata": {
      "needs_background": "light"
     },
     "output_type": "display_data"
    },
    {
     "data": {
      "image/png": "[encoded data removed]",
      "text/plain": [
       "<Figure size 504x504 with 2 Axes>"
      ]
     },
     "metadata": {
      "needs_background": "light"
     },
     "output_type": "display_data"
    },
    {
     "data": {
      "image/png": "[encoded data removed]",
      "text/plain": [
       "<Figure size 504x504 with 2 Axes>"
      ]
     },
     "metadata": {
      "needs_background": "light"
     },
     "output_type": "display_data"
    },
    {
     "data": {
      "image/png": "[encoded data removed]",
      "text/plain": [
       "<Figure size 504x504 with 2 Axes>"
      ]
     },
     "metadata": {
      "needs_background": "light"
     },
     "output_type": "display_data"
    }
   ],
   "source": [
    "# np.max(output_squares)\n",
    "func(output_squares.astype('uint8'))\n",
    "output_hoes = func(output_circles.astype('uint8'))\n",
    "output_nohoes = output_circles - output_hoes\n",
    "display(output_nohoes,0)"
   ]
  },
  {
   "cell_type": "code",
   "execution_count": 399,
   "metadata": {},
   "outputs": [],
   "source": [
    "# print(fi)"
   ]
  }
 ],
 "metadata": {
  "kernelspec": {
   "display_name": "Python 3",
   "language": "python",
   "name": "python3"
  },
  "language_info": {
   "codemirror_mode": {
    "name": "ipython",
    "version": 3
   },
   "file_extension": ".py",
   "mimetype": "text/x-python",
   "name": "python",
   "nbconvert_exporter": "python",
   "pygments_lexer": "ipython3",
   "version": "3.5.2"
  }
 },
 "nbformat": 4,
 "nbformat_minor": 2
}
