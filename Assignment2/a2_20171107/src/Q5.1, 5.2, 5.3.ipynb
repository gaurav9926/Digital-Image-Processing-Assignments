{
 "cells": [
  {
   "cell_type": "code",
   "execution_count": 3,
   "metadata": {},
   "outputs": [
    {
     "data": {
      "image/png": "[encoded data removed]",
      "text/plain": [
       "<Figure size 432x288 with 1 Axes>"
      ]
     },
     "metadata": {
      "needs_background": "light"
     },
     "output_type": "display_data"
    }
   ],
   "source": [
    "import cv2\n",
    "from matplotlib import pyplot as plt\n",
    "from PIL import Image, ImageOps\n",
    "import numpy as np\n",
    "import time\n",
    "\n",
    "def convolve2d(image, kernel, k):\n",
    "#     kernel = np.flipud(np.fliplr(kernel))    # Flip the kernel\n",
    "    image = image.astype('float')\n",
    "    kernel = np.array(kernel)\n",
    "#     kernel = kernel.astype('float32')\n",
    "    output = np.zeros_like(image)            # convolution output\n",
    "    # Add zero padding to the input image\n",
    "    \n",
    "    image_padded = np.zeros((image.shape[0] + k-1, image.shape[1] + k-1))   \n",
    "    image_padded[0:image.shape[0],0:image.shape[1]] = image\n",
    "#     image_padded[1:-1, 1:-1] = image\n",
    "    for x in range(image.shape[1]):     # Loop over every pixel of the image\n",
    "        for y in range(image.shape[0]):\n",
    "            # element-wise multiplication of the kernel and the image\n",
    "            output[y,x]=(kernel*image_padded[y:y+k,x:x+k]).sum()        \n",
    "    return output\n",
    "\n",
    "\n",
    "def lowpassfilter(img,k,eff):\n",
    "    img = np.array(img)\n",
    "    fil = np.zeros((k,k))//k*k\n",
    "    start = time.time()\n",
    "    x,y = img.shape\n",
    "\n",
    "    if eff:\n",
    "        k1 = k//2\n",
    "        ver = np.zeros((x,1))\n",
    "        hor = np.zeros((1,y+k-1))\n",
    "        ans = np.zeros(img.shape)\n",
    "        ans1 = np.zeros(img.shape)\n",
    "        w, h = img.shape\n",
    "        img_padded = np.zeros((img.shape[0] + k-1, img.shape[1] + k-1))\n",
    "        img_padded[0:img.shape[0],0:img.shape[1]] = img\n",
    "       \n",
    "        for i in range(k1,x-k1):\n",
    "            horzsum=np.sum(img_padded[i,0:2*(k1)+1])\n",
    "            for j in range(k1,y-k1):\n",
    "                if j==k1:\n",
    "                    ans1[i-k1,j-k1]=horzsum/k\n",
    "                else:\n",
    "                    horzsum=horzsum+img_padded[i][j+k1]-img[i][j-k1-1]\n",
    "                    ans1[i-k1,j-k1]=horzsum/k\n",
    "    \n",
    "        ans_padded = np.zeros((ans1.shape[0]+k-1, ans1.shape[1]+k-1))\n",
    "        ans_padded[0:ans1.shape[0], 0:ans1.shape[1]] = ans1\n",
    "\n",
    "        for i in range(k1,y-k1):\n",
    "            versum=np.sum(ans_padded[0:2*k1+1,i])\n",
    "            for j in range(k1,x-k1):\n",
    "                if j==k1:\n",
    "                    ans[j-k1,i-k1]=versum/k\n",
    "                else:\n",
    "                    versum=versum+ans_padded[j+k1][i]-ans_padded[j-k1-1][i]\n",
    "                    ans[j-k1,i-k1]=versum/k\n",
    "\n",
    "        ans[ans>255] = 255\n",
    "        ans[ans<0] = 0\n",
    "        ans = ans.astype('uint8')\n",
    "#         ans = np.zeros((w,h))\n",
    "#         for i in range(k//2, w-k//2):\n",
    "#             for j in range(k//2, h-k//2):\n",
    "#                 ans[i, j] = np.sum(fil*img[i-k//2:i+k//2+1, j-k//2: j+k//2+1])\n",
    "    else:\n",
    "        ans = convolve2d(img, fil, k)\n",
    "    end = time.time()\n",
    "    return end-start,ans\n",
    "\n",
    "img = Image.open('../input/barbara.jpg').convert('L')\n",
    "\n",
    "y_eff = []\n",
    "y_ineff = []\n",
    "\n",
    "for i in range(3,15,2):\n",
    "    t,ans = lowpassfilter(img, i, True)\n",
    "    y_eff.append(t)\n",
    "    \n",
    "    t,ans = lowpassfilter(img, i, False)\n",
    "    y_ineff.append(t)\n",
    "    \n",
    "x = range(3,15,2)\n",
    "plt.plot(x, y_eff,'r')\n",
    "plt.plot(x, y_ineff,'b')\n",
    "plt.show()"
   ]
  },
  {
   "cell_type": "code",
   "execution_count": 4,
   "metadata": {},
   "outputs": [
    {
     "data": {
      "image/png": "[encoded data removed]",
      "text/plain": [
       "<Figure size 432x288 with 1 Axes>"
      ]
     },
     "metadata": {
      "needs_background": "light"
     },
     "output_type": "display_data"
    }
   ],
   "source": [
    "def medianfilter(img, k, eff):\n",
    "    img = np.array(img)\n",
    "    st = time.time()\n",
    "    if eff:\n",
    "        shape_array = tuple(np.subtract(img.shape, (k,k)) + 1) + (k,k)\n",
    "        strides = np.lib.stride_tricks.as_strided\n",
    "        temp = strides(img, shape = shape_array, strides = img.strides * 2)\n",
    "        ans = np.median(temp,axis=(2,3))\n",
    "        ans = np.pad(ans,(2,2), 'constant')\n",
    "    else:\n",
    "        ans = np.zeros(img.shape)\n",
    "        for i in range(k//2, img.shape[0]-k//2):\n",
    "            for j in range(k//2, img.shape[1]-k//2):\n",
    "                ans[i,j] = np.median(img[i-k//2:i+k//2+1, j-k//2:j+k//2+1])\n",
    "    en = time.time()\n",
    "    return en-st, ans\n",
    "\n",
    "img = Image.open('../input/barbara.jpg').convert('L')\n",
    "\n",
    "y_eff = []\n",
    "y_ineff = []\n",
    "\n",
    "for i in range(3, 15, 2):\n",
    "    t,ans = medianfilter(img, i, True)\n",
    "    y_eff.append(t)\n",
    "    \n",
    "    t,ans = medianfilter(img, i, False)\n",
    "    y_ineff.append(t)\n",
    "    \n",
    "x = range(3, 15, 2)\n",
    "plt.plot(x, y_eff,'r')\n",
    "plt.plot(x, y_ineff,'b')\n",
    "plt.show()\n",
    "\n"
   ]
  }
 ],
 "metadata": {
  "kernelspec": {
   "display_name": "Python 3",
   "language": "python",
   "name": "python3"
  },
  "language_info": {
   "codemirror_mode": {
    "name": "ipython",
    "version": 3
   },
   "file_extension": ".py",
   "mimetype": "text/x-python",
   "name": "python",
   "nbconvert_exporter": "python",
   "pygments_lexer": "ipython3",
   "version": "3.5.2"
  }
 },
 "nbformat": 4,
 "nbformat_minor": 2
}
